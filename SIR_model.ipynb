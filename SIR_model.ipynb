{
 "cells": [
  {
   "cell_type": "markdown",
   "metadata": {},
   "source": [
    "# Compartment models"
   ]
  },
  {
   "cell_type": "markdown",
   "metadata": {},
   "source": [
    "This topic builds on our previous work on using the $\\verb|random|$ library for stochastic simulations. This case study is something you will have seen a lot in the context of COVID: a **compartment model** where individuals are either susceptible (S), infected (I) or recovered (R), and the way people move between these 'compartments' models an epidemic. Compartment models are a very **general modelling technique** - try to think of an example from an organisation that may be amenable to such a modelling approach. "
   ]
  },
  {
   "cell_type": "code",
   "execution_count": null,
   "metadata": {},
   "outputs": [],
   "source": []
  },
  {
   "cell_type": "markdown",
   "metadata": {},
   "source": [
    "# SIR model"
   ]
  },
  {
   "cell_type": "markdown",
   "metadata": {},
   "source": [
    "Try to run the below **worked python code** on modelling a discrete SIR model (from wikipedia) and attempt to identify what the various sections of the code are doing. You can use the **open-ended questions** below for inspiration. Don't worry, you are not expected to understand everything - but use your skills to analyse the code and use your groups to deepen that understanding! If there are things you find unclear, raise them in the group!"
   ]
  },
  {
   "cell_type": "code",
   "execution_count": 2,
   "metadata": {},
   "outputs": [
    {
     "data": {
      "image/png": "[encoded data removed]",
      "text/plain": [
       "<Figure size 432x288 with 1 Axes>"
      ]
     },
     "metadata": {
      "needs_background": "light"
     },
     "output_type": "display_data"
    },
    {
     "name": "stdout",
     "output_type": "stream",
     "text": [
      "Virus has been eradicated from the population -> steady state\n"
     ]
    }
   ],
   "source": [
    "import math\n",
    "import random\n",
    "import matplotlib.pyplot as plt\n",
    "\n",
    "\n",
    "x_inf  = []\n",
    "x_rec  = []\n",
    "x_susc = []\n",
    "x_time = []\n",
    "\n",
    "# Input parameters ####################\n",
    "\n",
    "# int; total population\n",
    "N = 350\n",
    "\n",
    "# float; maximum elapsed time\n",
    "T = 100.0\n",
    "\n",
    "# float; start time\n",
    "t = 0.0\n",
    "\n",
    "# float; spatial parameter\n",
    "V = 100.0\n",
    "\n",
    "# float; rate of infection after contact\n",
    "_alpha = 1.0\n",
    "\n",
    "# float; rate of cure\n",
    "_beta = 0.5\n",
    "\n",
    "# int; initial infected population\n",
    "n_I = 1\n",
    "\n",
    "#########################################\n",
    "\n",
    "# Compute susceptible population, set recovered to zero\n",
    "n_S = N - n_I\n",
    "n_R = 0\n",
    "\n",
    "# Initialize results list\n",
    "SIR_data = []\n",
    "SIR_data.append((t, n_S, n_I, n_R))\n",
    "\n",
    "# Main loop\n",
    "while t < T:\n",
    "    if n_I == 0:\n",
    "        break\n",
    "\n",
    "    w1 = _alpha * n_S * n_I / V\n",
    "    w2 = _beta * n_I\n",
    "    W = w1 + w2\n",
    "\n",
    "    dt = -math.log(random.uniform(0.0, 1.0)) / W\n",
    "    t = t + dt\n",
    "\n",
    "    if random.uniform(0.0, 1.0) < w1 / W:\n",
    "        n_S = n_S - 1\n",
    "        n_I = n_I + 1\n",
    "    else:\n",
    "        n_I = n_I - 1\n",
    "        n_R = n_R + 1\n",
    "\n",
    "    SIR_data.append((t, n_S, n_I, n_R))\n",
    "    x_inf.append(n_I)\n",
    "    x_susc.append(n_S)\n",
    "    x_rec.append(n_R)\n",
    "    x_time.append(t)\n",
    "\n",
    "with open('SIR_data.txt', 'w+') as fp:\n",
    "    fp.write('\\n'.join('%f %i %i %i' % x for x in SIR_data))\n",
    "    \n",
    "# plot all 3 species\n",
    "plt.plot(x_time, x_rec, color = 'red')\n",
    "#plt.show()\n",
    "plt.plot(x_time, x_inf,  color = 'orange')\n",
    "#plt.show()\n",
    "plt.plot(x_time, x_susc,  color = 'blue')\n",
    "plt.savefig(\"SIR.png\", dpi=300, facecolor='white')\n",
    "plt.show();\n",
    "\n",
    "if n_I == 0:\n",
    "    print('Virus has been eradicated from the population -> steady state')\n",
    "\n"
   ]
  },
  {
   "cell_type": "markdown",
   "metadata": {},
   "source": [
    "1) **Basic**: \n",
    "\n",
    "\n",
    "Which bits are for plotting the output?\n",
    "\n",
    "Which are the coupled reactions? \n",
    "\n",
    "2) **Intermediate**: \n",
    "\n",
    "What are the relative rates/probabilities? Why?\n",
    "\n",
    "What is happening in the loop?\n",
    "\n",
    "What happens when you change the parameters α and β (alpha and beta)?\n",
    "\n",
    "Play with different parameter values for alpha and beta. Can you find a model where not everyone was infected and recovered? \n",
    "\n",
    "\n",
    "3) **Advanced**:\n",
    "\n",
    "If you are done and think you understand the SIR model and algorithm, you could also  **think** about how you could combine a movement model with SIR aspects and how you **could** handle that computationally. \n"
   ]
  },
  {
   "cell_type": "code",
   "execution_count": null,
   "metadata": {},
   "outputs": [],
   "source": []
  },
  {
   "cell_type": "markdown",
   "metadata": {},
   "source": [
    "You can use the png file you have generated and compartment models in your portfolio if you wish! Which **learning outcomes** do these relate to? "
   ]
  },
  {
   "cell_type": "code",
   "execution_count": null,
   "metadata": {},
   "outputs": [],
   "source": []
  }
 ],
 "metadata": {
  "kernelspec": {
   "display_name": "Python 3 (ipykernel)",
   "language": "python",
   "name": "python3"
  },
  "language_info": {
   "codemirror_mode": {
    "name": "ipython",
    "version": 3
   },
   "file_extension": ".py",
   "mimetype": "text/x-python",
   "name": "python",
   "nbconvert_exporter": "python",
   "pygments_lexer": "ipython3",
   "version": "3.11.9"
  }
 },
 "nbformat": 4,
 "nbformat_minor": 2
}
